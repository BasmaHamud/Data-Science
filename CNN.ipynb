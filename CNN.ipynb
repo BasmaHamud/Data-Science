{
  "nbformat": 4,
  "nbformat_minor": 0,
  "metadata": {
    "colab": {
      "name": "Copy of conv_net_1.ipynb",
      "provenance": [],
      "collapsed_sections": [],
      "include_colab_link": true
    },
    "kernelspec": {
      "name": "python3",
      "display_name": "Python 3"
    }
  },
  "cells": [
    {
      "cell_type": "markdown",
      "metadata": {
        "id": "view-in-github",
        "colab_type": "text"
      },
      "source": [
        "<a href=\"https://colab.research.google.com/github/BasmaHamud/Data-Science/blob/main/CNN.ipynb\" target=\"_parent\"><img src=\"https://colab.research.google.com/assets/colab-badge.svg\" alt=\"Open In Colab\"/></a>"
      ]
    },
    {
      "cell_type": "code",
      "metadata": {
        "id": "KYZNTRseYlAK",
        "outputId": "0ad1179d-c138-4b5e-d512-505ff66bac32",
        "colab": {
          "base_uri": "https://localhost:8080/",
          "height": 34
        }
      },
      "source": [
        "import tensorflow as tf\n",
        "from tensorflow import keras\n",
        "from keras import models, layers\n",
        "from keras.datasets import mnist, fashion_mnist\n",
        "from keras.utils import to_categorical"
      ],
      "execution_count": null,
      "outputs": [
        {
          "output_type": "stream",
          "text": [
            "Using TensorFlow backend.\n"
          ],
          "name": "stderr"
        }
      ]
    },
    {
      "cell_type": "code",
      "metadata": {
        "id": "V-JW8qzSdD0g",
        "outputId": "d0d22699-95b2-4760-946b-a5b8cbff95cd",
        "colab": {
          "base_uri": "https://localhost:8080/",
          "height": 51
        }
      },
      "source": [
        "#Goal is now to attack the digit recognition problem again then go after another mnist problem\n",
        "(train_images, train_labels), (test_images, test_labels) = mnist.load_data()"
      ],
      "execution_count": null,
      "outputs": [
        {
          "output_type": "stream",
          "text": [
            "Downloading data from https://s3.amazonaws.com/img-datasets/mnist.npz\n",
            "11493376/11490434 [==============================] - 2s 0us/step\n"
          ],
          "name": "stdout"
        }
      ]
    },
    {
      "cell_type": "code",
      "metadata": {
        "id": "IXWdKI5fjzZV",
        "outputId": "7be69d7b-889f-43eb-e408-988206d93d1f",
        "colab": {
          "base_uri": "https://localhost:8080/",
          "height": 425
        }
      },
      "source": [
        "#Again we'll build up one layer at a time\n",
        "cnn = models.Sequential()\n",
        "\n",
        "#The task is the same, so we are maintaining the same input_shape for layer 1\n",
        "#But this time it is something special, a 2DConv layer - a layer performing a spatial\n",
        "#convolution over images.  For our purposes we can think of these layers as \"summary\" layers\n",
        "#for the distinct features (edges, eyes, odd shapes, etc.) in an image.\n",
        "cnn.add(layers.Conv2D(32, (3, 3), activation='relu', input_shape=(28, 28, 1))) #Output of (26, 26, 32) 26 due to 3x3 skip 32 filters\n",
        "#The problem though with these summary layers' output is that they become extremely\n",
        "#sensitive to the position of the features that the convolution layer picks out.\n",
        "#To address this we \"downsample\" this information: average over the specific\n",
        "#regions that were most likely to have a feature present\n",
        "cnn.add(layers.MaxPooling2D((2, 2))) #Downsamples the feature map by factor of 2\n",
        "cnn.add(layers.Conv2D(64, (3, 3), activation='relu')) #Output of (11, 11, 64) 11 due to 3x3 skip 64 filters\n",
        "cnn.add(layers.MaxPooling2D((2, 2))) #Downsamples by factor of 2\n",
        "cnn.add(layers.Conv2D(64, (3, 3), activation='relu'))\n",
        "#We'll then flatten for a layer to combine some of our derived features\n",
        "cnn.add(layers.Flatten()) #Output 3x3x64\n",
        "#And bring ourselves down to 10 outputs (the digits 0-9)\n",
        "cnn.add(layers.Dense(64, activation = 'relu'))\n",
        "cnn.add(layers.Dense(10, activation = 'softmax'))\n",
        "\n",
        "cnn.summary()"
      ],
      "execution_count": null,
      "outputs": [
        {
          "output_type": "stream",
          "text": [
            "Model: \"sequential_1\"\n",
            "_________________________________________________________________\n",
            "Layer (type)                 Output Shape              Param #   \n",
            "=================================================================\n",
            "conv2d_1 (Conv2D)            (None, 26, 26, 32)        320       \n",
            "_________________________________________________________________\n",
            "max_pooling2d_1 (MaxPooling2 (None, 13, 13, 32)        0         \n",
            "_________________________________________________________________\n",
            "conv2d_2 (Conv2D)            (None, 11, 11, 64)        18496     \n",
            "_________________________________________________________________\n",
            "max_pooling2d_2 (MaxPooling2 (None, 5, 5, 64)          0         \n",
            "_________________________________________________________________\n",
            "conv2d_3 (Conv2D)            (None, 3, 3, 64)          36928     \n",
            "_________________________________________________________________\n",
            "flatten_1 (Flatten)          (None, 576)               0         \n",
            "_________________________________________________________________\n",
            "dense_1 (Dense)              (None, 64)                36928     \n",
            "_________________________________________________________________\n",
            "dense_2 (Dense)              (None, 10)                650       \n",
            "=================================================================\n",
            "Total params: 93,322\n",
            "Trainable params: 93,322\n",
            "Non-trainable params: 0\n",
            "_________________________________________________________________\n"
          ],
          "name": "stdout"
        }
      ]
    },
    {
      "cell_type": "code",
      "metadata": {
        "id": "KUZ6rkChnBPd",
        "outputId": "869bea1d-b99f-468e-c398-8c45ea8aad06",
        "colab": {
          "base_uri": "https://localhost:8080/",
          "height": 221
        }
      },
      "source": [
        "#Now we perform the same preprocessing as before\n",
        "train_images = train_images.reshape((60000, 28, 28, 1))\n",
        "train_images = train_images.astype('float32')/255\n",
        "\n",
        "test_images = test_images.reshape((10000, 28, 28, 1))\n",
        "test_images = test_images.astype('float32')/255\n",
        "\n",
        "train_labels = to_categorical(train_labels)\n",
        "test_labels = to_categorical(test_labels)\n",
        "\n",
        "cnn.compile(optimizer = 'adam', loss = 'categorical_crossentropy', metrics = ['accuracy'])\n",
        "cnn.fit(train_images, train_labels, epochs = 5, batch_size = 64)\n",
        "\n",
        "test_loss, test_acc = cnn.evaluate(test_images, test_labels)\n",
        "print(test_acc)"
      ],
      "execution_count": null,
      "outputs": [
        {
          "output_type": "stream",
          "text": [
            "Epoch 1/5\n",
            "60000/60000 [==============================] - 57s 955us/step - loss: 0.1859 - accuracy: 0.9442\n",
            "Epoch 2/5\n",
            "60000/60000 [==============================] - 58s 959us/step - loss: 0.0492 - accuracy: 0.9847\n",
            "Epoch 3/5\n",
            "60000/60000 [==============================] - 57s 943us/step - loss: 0.0350 - accuracy: 0.9894\n",
            "Epoch 4/5\n",
            "60000/60000 [==============================] - 56s 937us/step - loss: 0.0278 - accuracy: 0.9909\n",
            "Epoch 5/5\n",
            "60000/60000 [==============================] - 57s 943us/step - loss: 0.0224 - accuracy: 0.9933\n",
            "10000/10000 [==============================] - 3s 340us/step\n",
            "0.9901000261306763\n"
          ],
          "name": "stdout"
        }
      ]
    },
    {
      "cell_type": "markdown",
      "metadata": {
        "id": "3j_v0cDUdXAy"
      },
      "source": [
        "So we see that all of this heavy lifting gave us a reasonable (relative) improvement of ~50% (recalling we were already pushing the edge of performance.)  Why does this approach actually give us such an improvement?  To see why let's discuss the exactly what Conv2D and MaxPooling2D do.\n",
        "\n",
        "Convolutional layers have a property that allows them to learn the local features or patterns of their inputs (contrast this with FC layers which learned global features.)  We call this behavior translation invariant (a valuable property: a cat sitting next to me is still a cat if I pick it up and move it a few feet to my right) and say multiple layers learn the spatial hierarchy of an input.\n",
        "\n",
        "These conv layers operate on 3-Tensors (height, width, depth) - remember the RGB pixels we talked about yesterday.  The interpretation of the axes can change after operation - depending on which axis the layer acts on.\n",
        "\n",
        "As mentioned before, we pick up a little too much detail with conv and so we want to start downsampling that as quickly as possible.  Specifically, the max pooling layer accomplishes this by outputting the max value of each channel for a given input. "
      ]
    },
    {
      "cell_type": "code",
      "metadata": {
        "id": "ycy248q_adyB"
      },
      "source": [
        "#Warm up exercise: determine the relationship between an input of (x, y) and the output\n",
        "#of (x', y') for a) 3x3 skip and b) 5x5 skip (don't just look up the formula....)\n",
        "\n",
        "\n",
        "\n",
        "\n",
        "#As an exercise to you guys, follow the link below to see a fully connected implementation\n",
        "#of a nn for the fashion-mnist dataset.  Feel free to follow their example, but then\n",
        "#expand on it first by directly copying our approach above and then by seeing\n",
        "#if you can expand on the approach (different optimizers, nn archiecture, etc.)\n",
        "\n",
        "#Winner gets a $5 starbucks gift card\n",
        "\n",
        "#https://www.tensorflow.org/tutorials/keras/classification"
      ],
      "execution_count": null,
      "outputs": []
    },
    {
      "cell_type": "code",
      "metadata": {
        "id": "UOuKXXD5yOw1",
        "colab": {
          "base_uri": "https://localhost:8080/",
          "height": 265
        },
        "outputId": "957123c1-984b-4216-d886-3e4efeb3e6fd"
      },
      "source": [
        "#directly copying above approach on new dataset\n",
        "#going to switch optimizer to 'sgd'\n",
        "#from looking online, this gradient decent will update the gradeients more frequelent (each data point instead data set) \n",
        "#could be noisey with not 'mini batch' (few samples) or momentum\n",
        "\n",
        "import tensorflow as tf\n",
        "from tensorflow import keras\n",
        "from keras import models, layers\n",
        "from keras.datasets import mnist, fashion_mnist\n",
        "from keras.utils import to_categorical\n",
        "import matplotlib.pyplot as plt\n",
        "import numpy as np\n",
        "%matplotlib inline\n",
        "fashion_mnist = keras.datasets.fashion_mnist\n",
        "\n",
        "(train_images, train_labels), (test_images, test_labels) = fashion_mnist.load_data()\n",
        "\n",
        "#print a test image... ankle boot\n",
        "plt.imshow(train_images[0])\n",
        "plt.show()"
      ],
      "execution_count": null,
      "outputs": [
        {
          "output_type": "display_data",
          "data": {
            "image/png": "[encoded data removed]",
            "text/plain": [
              "<Figure size 432x288 with 1 Axes>"
            ]
          },
          "metadata": {
            "tags": [],
            "needs_background": "light"
          }
        }
      ]
    },
    {
      "cell_type": "code",
      "metadata": {
        "id": "C8Yxbrbm41Gn",
        "colab": {
          "base_uri": "https://localhost:8080/",
          "height": 323
        },
        "outputId": "9604f7e4-ee02-4bdc-ab25-27f3ae5e64b7"
      },
      "source": [
        "model=models.Sequential()\n",
        "#convulution layer will have 32 filters each size 3x3. specified input shape with 28x28 dimension\n",
        "model.add(layers.Conv2D(32, (3, 3), activation='relu', input_shape=(28, 28, 1))) #Output of (26, 26, 32) 26 due to 3x3 skip 32 filters\n",
        "#one more layer having 64 filters \n",
        "model.add(layers.Conv2D(64, (3, 3), activation='relu')) #no need to copy input shape\n",
        "\n",
        "model.add(layers.MaxPooling2D((2, 2)))##? still a little unclear on maxpooling\n",
        "\n",
        "model.add(layers.Flatten()) #reshape function to make 3d  into linear --- \n",
        "model.add(layers.Dense(10, activation = 'softmax'))#dense layer w/ 10 neurons to predict output for 10 classes\n",
        "#add drop out\n",
        "# different dense \n",
        "model.summary()\n",
        "\n",
        "#how to reduce params? 110k examples? is this over fiting??"
      ],
      "execution_count": null,
      "outputs": [
        {
          "output_type": "stream",
          "text": [
            "Model: \"sequential_18\"\n",
            "_________________________________________________________________\n",
            "Layer (type)                 Output Shape              Param #   \n",
            "=================================================================\n",
            "conv2d_27 (Conv2D)           (None, 26, 26, 32)        320       \n",
            "_________________________________________________________________\n",
            "conv2d_28 (Conv2D)           (None, 24, 24, 64)        18496     \n",
            "_________________________________________________________________\n",
            "max_pooling2d_13 (MaxPooling (None, 12, 12, 64)        0         \n",
            "_________________________________________________________________\n",
            "flatten_8 (Flatten)          (None, 9216)              0         \n",
            "_________________________________________________________________\n",
            "dense_9 (Dense)              (None, 10)                92170     \n",
            "=================================================================\n",
            "Total params: 110,986\n",
            "Trainable params: 110,986\n",
            "Non-trainable params: 0\n",
            "_________________________________________________________________\n"
          ],
          "name": "stdout"
        }
      ]
    },
    {
      "cell_type": "code",
      "metadata": {
        "id": "tlwGr5I398lZ"
      },
      "source": [
        "\n",
        "\n",
        "#perform the same preprocessing as before\n",
        "train_images = train_images.reshape((60000, 28, 28, 1))\n",
        "train_images = train_images.astype('float32')/255  # makes a float value between 0 and 1\n",
        "\n",
        "test_images = test_images.reshape((10000, 28, 28, 1))\n",
        "test_images = test_images.astype('float32')/255\n",
        "\n",
        "train_labels = to_categorical(train_labels)\n",
        "test_labels = to_categorical(test_labels)\n"
      ],
      "execution_count": null,
      "outputs": []
    },
    {
      "cell_type": "code",
      "metadata": {
        "id": "qGjBaqLvbsWh",
        "colab": {
          "base_uri": "https://localhost:8080/",
          "height": 221
        },
        "outputId": "8a1926c5-214d-4de9-ed2c-f1a1389e24a7"
      },
      "source": [
        "#model ready to compile and train \n",
        "# check different 'loss' options\n",
        "\n",
        "\n",
        "model.compile(optimizer = 'sgd', loss = 'categorical_crossentropy', metrics = ['accuracy'])\n",
        "model.fit(train_images, train_labels, epochs = 5, batch_size = 64)\n",
        "\n",
        "test_loss, test_acc = model.evaluate(test_images, test_labels)\n",
        "print(test_acc)"
      ],
      "execution_count": null,
      "outputs": [
        {
          "output_type": "stream",
          "text": [
            "Epoch 1/5\n",
            "60000/60000 [==============================] - 123s 2ms/step - loss: 0.7253 - accuracy: 0.7436\n",
            "Epoch 2/5\n",
            "60000/60000 [==============================] - 123s 2ms/step - loss: 0.5429 - accuracy: 0.8052\n",
            "Epoch 3/5\n",
            "60000/60000 [==============================] - 124s 2ms/step - loss: 0.4749 - accuracy: 0.8319\n",
            "Epoch 4/5\n",
            "60000/60000 [==============================] - 123s 2ms/step - loss: 0.4348 - accuracy: 0.8468\n",
            "Epoch 5/5\n",
            "60000/60000 [==============================] - 123s 2ms/step - loss: 0.4039 - accuracy: 0.8583\n",
            "10000/10000 [==============================] - 6s 591us/step\n",
            "0.8565999865531921\n"
          ],
          "name": "stdout"
        }
      ]
    },
    {
      "cell_type": "markdown",
      "metadata": {
        "id": "tbpvvns1yrR6"
      },
      "source": [
        ""
      ]
    }
  ]
}