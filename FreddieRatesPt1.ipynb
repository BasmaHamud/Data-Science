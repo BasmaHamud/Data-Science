{
  "nbformat": 4,
  "nbformat_minor": 0,
  "metadata": {
    "colab": {
      "name": "FreddieRatesPt1.ipynb",
      "provenance": [],
      "collapsed_sections": []
    },
    "kernelspec": {
      "name": "python3",
      "display_name": "Python 3"
    }
  },
  "cells": [
    {
      "cell_type": "markdown",
      "metadata": {
        "id": "Oq4n5r3QGA5T"
      },
      "source": [
        "Focus this week:\n",
        "\n",
        "*   Recurrent dropout, a specific, built-in way to use dropout to fight overfitting in recurrent layers.\n",
        "*   Stacking recurrent layers, to increase the representational power of the network (at the cost of higher computational loads).\n",
        "*   Bidirectional recurrent layers, which presents the same information to a recurrent network in different ways, increasing accuracy and mitigating forgetting issues (pt. 2)\n",
        "\n",
        "The last of these is also a key technique in Language Modelling, Bi-LM.\n",
        "\n",
        "We'll focus on some Freddie data this time to bring ourselves back to a\n",
        "more job focused approach:\n",
        "\n",
        "http://www.freddiemac.com/pmms/pmms_archives.html\n",
        "\n",
        "The goal will be to use a collection of publicly available mortgage variables to forecast the mortgage rate a few periods out."
      ]
    },
    {
      "cell_type": "code",
      "metadata": {
        "id": "DpFCRuNTHqOj",
        "colab": {
          "resources": {
            "http://localhost:8080/nbextensions/google.colab/files.js": {
              "data": "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",
              "ok": true,
              "headers": [
                [
                  "content-type",
                  "application/javascript"
                ]
              ],
              "status": 200,
              "status_text": ""
            }
          },
          "base_uri": "https://localhost:8080/",
          "height": 72
        },
        "outputId": "a30cb229-25ec-425c-c4fb-8aa4e3e05a2d"
      },
      "source": [
        "from google.colab import files\n",
        "mtgdataset = files.upload()"
      ],
      "execution_count": null,
      "outputs": [
        {
          "output_type": "display_data",
          "data": {
            "text/html": [
              "\n",
              "     <input type=\"file\" id=\"files-2878938d-844a-4240-b6e2-0018c1ab8931\" name=\"files[]\" multiple disabled\n",
              "        style=\"border:none\" />\n",
              "     <output id=\"result-2878938d-844a-4240-b6e2-0018c1ab8931\">\n",
              "      Upload widget is only available when the cell has been executed in the\n",
              "      current browser session. Please rerun this cell to enable.\n",
              "      </output>\n",
              "      <script src=\"/nbextensions/google.colab/files.js\"></script> "
            ],
            "text/plain": [
              "<IPython.core.display.HTML object>"
            ]
          },
          "metadata": {
            "tags": []
          }
        },
        {
          "output_type": "stream",
          "text": [
            "Saving historicalweeklydata.xls to historicalweeklydata.xls\n"
          ],
          "name": "stdout"
        }
      ]
    },
    {
      "cell_type": "code",
      "metadata": {
        "id": "UwovGB0ZHt39",
        "colab": {
          "base_uri": "https://localhost:8080/",
          "height": 204
        },
        "outputId": "dd857484-64ab-4b41-acfd-3f23f85ea310"
      },
      "source": [
        "import pandas as pd\n",
        "df = pd.read_excel('/content/historicalweeklydata.xls')\n",
        "df.head()"
      ],
      "execution_count": null,
      "outputs": [
        {
          "output_type": "execute_result",
          "data": {
            "text/html": [
              "<div>\n",
              "<style scoped>\n",
              "    .dataframe tbody tr th:only-of-type {\n",
              "        vertical-align: middle;\n",
              "    }\n",
              "\n",
              "    .dataframe tbody tr th {\n",
              "        vertical-align: top;\n",
              "    }\n",
              "\n",
              "    .dataframe thead th {\n",
              "        text-align: right;\n",
              "    }\n",
              "</style>\n",
              "<table border=\"1\" class=\"dataframe\">\n",
              "  <thead>\n",
              "    <tr style=\"text-align: right;\">\n",
              "      <th></th>\n",
              "      <th>Week</th>\n",
              "      <th>US 30yr FRM</th>\n",
              "      <th>30 yr feespts</th>\n",
              "      <th>US 15yr FRM</th>\n",
              "      <th>15 yr feespts</th>\n",
              "      <th>US 51 ARM</th>\n",
              "      <th>51 ARM feespts</th>\n",
              "      <th>51 ARM margin</th>\n",
              "      <th>FRMARM sprd</th>\n",
              "      <th>Unnamed: 9</th>\n",
              "    </tr>\n",
              "  </thead>\n",
              "  <tbody>\n",
              "    <tr>\n",
              "      <th>0</th>\n",
              "      <td>1971-04-02</td>\n",
              "      <td>7.33</td>\n",
              "      <td></td>\n",
              "      <td>NaN</td>\n",
              "      <td>NaN</td>\n",
              "      <td>NaN</td>\n",
              "      <td>NaN</td>\n",
              "      <td>NaN</td>\n",
              "      <td>NaN</td>\n",
              "      <td>NaN</td>\n",
              "    </tr>\n",
              "    <tr>\n",
              "      <th>1</th>\n",
              "      <td>1971-04-09</td>\n",
              "      <td>7.31</td>\n",
              "      <td></td>\n",
              "      <td>NaN</td>\n",
              "      <td>NaN</td>\n",
              "      <td>NaN</td>\n",
              "      <td>NaN</td>\n",
              "      <td>NaN</td>\n",
              "      <td>NaN</td>\n",
              "      <td>NaN</td>\n",
              "    </tr>\n",
              "    <tr>\n",
              "      <th>2</th>\n",
              "      <td>1971-04-16</td>\n",
              "      <td>7.31</td>\n",
              "      <td></td>\n",
              "      <td>NaN</td>\n",
              "      <td>NaN</td>\n",
              "      <td>NaN</td>\n",
              "      <td>NaN</td>\n",
              "      <td>NaN</td>\n",
              "      <td>NaN</td>\n",
              "      <td>NaN</td>\n",
              "    </tr>\n",
              "    <tr>\n",
              "      <th>3</th>\n",
              "      <td>1971-04-23</td>\n",
              "      <td>7.31</td>\n",
              "      <td></td>\n",
              "      <td>NaN</td>\n",
              "      <td>NaN</td>\n",
              "      <td>NaN</td>\n",
              "      <td>NaN</td>\n",
              "      <td>NaN</td>\n",
              "      <td>NaN</td>\n",
              "      <td>NaN</td>\n",
              "    </tr>\n",
              "    <tr>\n",
              "      <th>4</th>\n",
              "      <td>1971-04-30</td>\n",
              "      <td>7.29</td>\n",
              "      <td></td>\n",
              "      <td>NaN</td>\n",
              "      <td>NaN</td>\n",
              "      <td>NaN</td>\n",
              "      <td>NaN</td>\n",
              "      <td>NaN</td>\n",
              "      <td>NaN</td>\n",
              "      <td>NaN</td>\n",
              "    </tr>\n",
              "  </tbody>\n",
              "</table>\n",
              "</div>"
            ],
            "text/plain": [
              "        Week  US 30yr FRM 30 yr feespts  ...  51 ARM margin  FRMARM sprd  Unnamed: 9\n",
              "0 1971-04-02         7.33                ...            NaN          NaN         NaN\n",
              "1 1971-04-09         7.31                ...            NaN          NaN         NaN\n",
              "2 1971-04-16         7.31                ...            NaN          NaN         NaN\n",
              "3 1971-04-23         7.31                ...            NaN          NaN         NaN\n",
              "4 1971-04-30         7.29                ...            NaN          NaN         NaN\n",
              "\n",
              "[5 rows x 10 columns]"
            ]
          },
          "metadata": {
            "tags": []
          },
          "execution_count": 4
        }
      ]
    },
    {
      "cell_type": "code",
      "metadata": {
        "id": "ox8s-27yJQRS",
        "colab": {
          "base_uri": "https://localhost:8080/",
          "height": 265
        },
        "outputId": "9aa7596c-5022-4dd4-cd34-58f29b49bd90"
      },
      "source": [
        "#Goal will be to predict the 30yr FRM based on historical data, let's see what we have\n",
        "from matplotlib import pyplot as plt\n",
        "plt.plot(df['Week'], df['US 30yr FRM'])\n",
        "plt.show()"
      ],
      "execution_count": null,
      "outputs": [
        {
          "output_type": "display_data",
          "data": {
            "image/png": "[encoded data removed]",
            "text/plain": [
              "<Figure size 432x288 with 1 Axes>"
            ]
          },
          "metadata": {
            "tags": [],
            "needs_background": "light"
          }
        }
      ]
    },
    {
      "cell_type": "markdown",
      "metadata": {
        "id": "R8CMJJmALFNP"
      },
      "source": [
        "What do we notice about this data?"
      ]
    },
    {
      "cell_type": "code",
      "metadata": {
        "id": "lAF1wH6wKT5R",
        "colab": {
          "base_uri": "https://localhost:8080/",
          "height": 204
        },
        "outputId": "a8b085b2-681e-4693-ea5a-bb38165a7b93"
      },
      "source": [
        "#Let's figure out the volume of NaN as well in each column\n",
        "df.isna().sum()"
      ],
      "execution_count": null,
      "outputs": [
        {
          "output_type": "execute_result",
          "data": {
            "text/plain": [
              "Week                 0\n",
              "US 30yr FRM          0\n",
              "30 yr feespts        0\n",
              "US 15yr FRM       1065\n",
              "15 yr feespts     1065\n",
              "US 51 ARM         1762\n",
              "51 ARM feespts    1762\n",
              "51 ARM margin     1762\n",
              "FRMARM sprd       2336\n",
              "Unnamed: 9        2543\n",
              "dtype: int64"
            ]
          },
          "metadata": {
            "tags": []
          },
          "execution_count": 105
        }
      ]
    },
    {
      "cell_type": "code",
      "metadata": {
        "id": "qRCB8_ARMX0V"
      },
      "source": [
        "#It looks like there were some artifacts mucking up values when I manually cleaned this file\n",
        "df = df.drop('Unnamed: 9', axis = 1)"
      ],
      "execution_count": null,
      "outputs": []
    },
    {
      "cell_type": "code",
      "metadata": {
        "id": "ORq1Kp1fM8WZ",
        "colab": {
          "base_uri": "https://localhost:8080/",
          "height": 34
        },
        "outputId": "191898b0-62f5-49b2-8276-3d7bfbbb23b7"
      },
      "source": [
        "df.shape"
      ],
      "execution_count": null,
      "outputs": [
        {
          "output_type": "execute_result",
          "data": {
            "text/plain": [
              "(2544, 9)"
            ]
          },
          "metadata": {
            "tags": []
          },
          "execution_count": 107
        }
      ]
    },
    {
      "cell_type": "markdown",
      "metadata": {
        "id": "p66uugoPNxZz"
      },
      "source": [
        "#Given the shape of this, and the techniques and timescale we're thinking we'll probably throw away the FRMARM spread, leaving us with ~800 datapoints (call it 15 years)\n",
        "\n",
        "This accomplishes a few convenient things for us:\n",
        "\n",
        "\n",
        "\n",
        "*   We move away from the massive values seen at the start of the dataset, carrying \"too much memory\" of history will cause us problems\n",
        "*   We'll force ourselves to be judicious in how we construct our network.  With so few examples we can't just build super deep networks and hope for the best\n",
        "\n",
        "But first, we want to start with a baseline to beat.  \n",
        "\n"
      ]
    },
    {
      "cell_type": "code",
      "metadata": {
        "id": "D8kezN8wNrqH",
        "colab": {
          "base_uri": "https://localhost:8080/",
          "height": 235
        },
        "outputId": "d00a92f2-ac34-4776-882e-a2e1016acab0"
      },
      "source": [
        "#A reasonable baseline to start with is just to say that next week the rate is the same as this week\n",
        "df_baseline = df[['Week', 'US 30yr FRM']].set_index('Week')\n",
        "\n",
        "df_baseline['US 30yr FRM Back'] = df_baseline['US 30yr FRM'].shift()\n",
        "\n",
        "df_baseline.head()"
      ],
      "execution_count": null,
      "outputs": [
        {
          "output_type": "execute_result",
          "data": {
            "text/html": [
              "<div>\n",
              "<style scoped>\n",
              "    .dataframe tbody tr th:only-of-type {\n",
              "        vertical-align: middle;\n",
              "    }\n",
              "\n",
              "    .dataframe tbody tr th {\n",
              "        vertical-align: top;\n",
              "    }\n",
              "\n",
              "    .dataframe thead th {\n",
              "        text-align: right;\n",
              "    }\n",
              "</style>\n",
              "<table border=\"1\" class=\"dataframe\">\n",
              "  <thead>\n",
              "    <tr style=\"text-align: right;\">\n",
              "      <th></th>\n",
              "      <th>US 30yr FRM</th>\n",
              "      <th>US 30yr FRM Back</th>\n",
              "    </tr>\n",
              "    <tr>\n",
              "      <th>Week</th>\n",
              "      <th></th>\n",
              "      <th></th>\n",
              "    </tr>\n",
              "  </thead>\n",
              "  <tbody>\n",
              "    <tr>\n",
              "      <th>1971-04-02</th>\n",
              "      <td>7.33</td>\n",
              "      <td>NaN</td>\n",
              "    </tr>\n",
              "    <tr>\n",
              "      <th>1971-04-09</th>\n",
              "      <td>7.31</td>\n",
              "      <td>7.33</td>\n",
              "    </tr>\n",
              "    <tr>\n",
              "      <th>1971-04-16</th>\n",
              "      <td>7.31</td>\n",
              "      <td>7.31</td>\n",
              "    </tr>\n",
              "    <tr>\n",
              "      <th>1971-04-23</th>\n",
              "      <td>7.31</td>\n",
              "      <td>7.31</td>\n",
              "    </tr>\n",
              "    <tr>\n",
              "      <th>1971-04-30</th>\n",
              "      <td>7.29</td>\n",
              "      <td>7.31</td>\n",
              "    </tr>\n",
              "  </tbody>\n",
              "</table>\n",
              "</div>"
            ],
            "text/plain": [
              "            US 30yr FRM  US 30yr FRM Back\n",
              "Week                                     \n",
              "1971-04-02         7.33               NaN\n",
              "1971-04-09         7.31              7.33\n",
              "1971-04-16         7.31              7.31\n",
              "1971-04-23         7.31              7.31\n",
              "1971-04-30         7.29              7.31"
            ]
          },
          "metadata": {
            "tags": []
          },
          "execution_count": 6
        }
      ]
    },
    {
      "cell_type": "code",
      "metadata": {
        "id": "ahg5Gp4pNE3Y"
      },
      "source": [
        "#Let's limit to the last 800 weeks or so \n",
        "df_baseline = df_baseline['2005-01-07':]"
      ],
      "execution_count": null,
      "outputs": []
    },
    {
      "cell_type": "code",
      "metadata": {
        "id": "bu99AWUtYva9",
        "colab": {
          "base_uri": "https://localhost:8080/",
          "height": 34
        },
        "outputId": "d53dc267-d38e-4e04-b6b6-1d273e09dd3d"
      },
      "source": [
        "df_baseline.shape"
      ],
      "execution_count": null,
      "outputs": [
        {
          "output_type": "execute_result",
          "data": {
            "text/plain": [
              "(781, 2)"
            ]
          },
          "metadata": {
            "tags": []
          },
          "execution_count": 110
        }
      ]
    },
    {
      "cell_type": "code",
      "metadata": {
        "id": "CB6wBuSFYxHK",
        "colab": {
          "base_uri": "https://localhost:8080/",
          "height": 34
        },
        "outputId": "b9831930-9759-4b22-fddf-1e517e6bda2d"
      },
      "source": [
        "import numpy as np\n",
        "np.mean(np.abs(df_baseline['US 30yr FRM Back'] - df_baseline['US 30yr FRM']))"
      ],
      "execution_count": null,
      "outputs": [
        {
          "output_type": "execute_result",
          "data": {
            "text/plain": [
              "0.05962868117797698"
            ]
          },
          "metadata": {
            "tags": []
          },
          "execution_count": 8
        }
      ]
    },
    {
      "cell_type": "code",
      "metadata": {
        "id": "HRaOvlon8hHx",
        "colab": {
          "base_uri": "https://localhost:8080/",
          "height": 34
        },
        "outputId": "741f9fa0-6fb2-4809-b06c-4b690b956526"
      },
      "source": [
        "np.abs(df_baseline['US 30yr FRM Back'] - df_baseline['US 30yr FRM']).max()"
      ],
      "execution_count": null,
      "outputs": [
        {
          "output_type": "execute_result",
          "data": {
            "text/plain": [
              "0.5299999999999998"
            ]
          },
          "metadata": {
            "tags": []
          },
          "execution_count": 9
        }
      ]
    },
    {
      "cell_type": "code",
      "metadata": {
        "id": "cuJK0f7h8nq0",
        "colab": {
          "base_uri": "https://localhost:8080/",
          "height": 34
        },
        "outputId": "3bd8c443-6ab1-4ab3-aa4a-3ea1c140c682"
      },
      "source": [
        "np.abs(df_baseline['US 30yr FRM Back'] - df_baseline['US 30yr FRM']).min()"
      ],
      "execution_count": null,
      "outputs": [
        {
          "output_type": "execute_result",
          "data": {
            "text/plain": [
              "0.0"
            ]
          },
          "metadata": {
            "tags": []
          },
          "execution_count": 10
        }
      ]
    },
    {
      "cell_type": "markdown",
      "metadata": {
        "id": "7f8Z7K3rZSj4"
      },
      "source": [
        "So, around 6 bps.  Note great but not terrible either"
      ]
    },
    {
      "cell_type": "code",
      "metadata": {
        "id": "EUNS-VBSZLbP",
        "colab": {
          "base_uri": "https://localhost:8080/",
          "height": 170
        },
        "outputId": "343ac0f8-80f1-4592-97c4-5bb3ed3b5339"
      },
      "source": [
        "#Let's start by looking at our first baseline using ML, which won't turn out to be great\n",
        "df = df.set_index('Week')\n",
        "df = df['2005-01-07':]\n",
        "\n",
        "df.isna().sum()"
      ],
      "execution_count": null,
      "outputs": [
        {
          "output_type": "execute_result",
          "data": {
            "text/plain": [
              "US 30yr FRM         0\n",
              "30 yr feespts       0\n",
              "US 15yr FRM         0\n",
              "15 yr feespts       0\n",
              "US 51 ARM           0\n",
              "51 ARM feespts      0\n",
              "51 ARM margin       0\n",
              "Unnamed: 9        781\n",
              "dtype: int64"
            ]
          },
          "metadata": {
            "tags": []
          },
          "execution_count": 14
        }
      ]
    },
    {
      "cell_type": "code",
      "metadata": {
        "id": "F72m0BK2ae44",
        "colab": {
          "base_uri": "https://localhost:8080/",
          "height": 306
        },
        "outputId": "8c6eb487-4075-4087-d71f-4d2e81647bc4"
      },
      "source": [
        "df = df.drop('FRMARM sprd', axis = 1)"
      ],
      "execution_count": null,
      "outputs": [
        {
          "output_type": "error",
          "ename": "KeyError",
          "evalue": "ignored",
          "traceback": [
            "\u001b[0;31m---------------------------------------------------------------------------\u001b[0m",
            "\u001b[0;31mKeyError\u001b[0m                                  Traceback (most recent call last)",
            "\u001b[0;32m<ipython-input-15-e6142c0a6aa8>\u001b[0m in \u001b[0;36m<module>\u001b[0;34m()\u001b[0m\n\u001b[0;32m----> 1\u001b[0;31m \u001b[0mdf\u001b[0m \u001b[0;34m=\u001b[0m \u001b[0mdf\u001b[0m\u001b[0;34m.\u001b[0m\u001b[0mdrop\u001b[0m\u001b[0;34m(\u001b[0m\u001b[0;34m'FRMARM sprd'\u001b[0m\u001b[0;34m,\u001b[0m \u001b[0maxis\u001b[0m \u001b[0;34m=\u001b[0m \u001b[0;36m1\u001b[0m\u001b[0;34m)\u001b[0m\u001b[0;34m\u001b[0m\u001b[0;34m\u001b[0m\u001b[0m\n\u001b[0m",
            "\u001b[0;32m/usr/local/lib/python3.6/dist-packages/pandas/core/frame.py\u001b[0m in \u001b[0;36mdrop\u001b[0;34m(self, labels, axis, index, columns, level, inplace, errors)\u001b[0m\n\u001b[1;32m   3995\u001b[0m             \u001b[0mlevel\u001b[0m\u001b[0;34m=\u001b[0m\u001b[0mlevel\u001b[0m\u001b[0;34m,\u001b[0m\u001b[0;34m\u001b[0m\u001b[0;34m\u001b[0m\u001b[0m\n\u001b[1;32m   3996\u001b[0m             \u001b[0minplace\u001b[0m\u001b[0;34m=\u001b[0m\u001b[0minplace\u001b[0m\u001b[0;34m,\u001b[0m\u001b[0;34m\u001b[0m\u001b[0;34m\u001b[0m\u001b[0m\n\u001b[0;32m-> 3997\u001b[0;31m             \u001b[0merrors\u001b[0m\u001b[0;34m=\u001b[0m\u001b[0merrors\u001b[0m\u001b[0;34m,\u001b[0m\u001b[0;34m\u001b[0m\u001b[0;34m\u001b[0m\u001b[0m\n\u001b[0m\u001b[1;32m   3998\u001b[0m         )\n\u001b[1;32m   3999\u001b[0m \u001b[0;34m\u001b[0m\u001b[0m\n",
            "\u001b[0;32m/usr/local/lib/python3.6/dist-packages/pandas/core/generic.py\u001b[0m in \u001b[0;36mdrop\u001b[0;34m(self, labels, axis, index, columns, level, inplace, errors)\u001b[0m\n\u001b[1;32m   3934\u001b[0m         \u001b[0;32mfor\u001b[0m \u001b[0maxis\u001b[0m\u001b[0;34m,\u001b[0m \u001b[0mlabels\u001b[0m \u001b[0;32min\u001b[0m \u001b[0maxes\u001b[0m\u001b[0;34m.\u001b[0m\u001b[0mitems\u001b[0m\u001b[0;34m(\u001b[0m\u001b[0;34m)\u001b[0m\u001b[0;34m:\u001b[0m\u001b[0;34m\u001b[0m\u001b[0;34m\u001b[0m\u001b[0m\n\u001b[1;32m   3935\u001b[0m             \u001b[0;32mif\u001b[0m \u001b[0mlabels\u001b[0m \u001b[0;32mis\u001b[0m \u001b[0;32mnot\u001b[0m \u001b[0;32mNone\u001b[0m\u001b[0;34m:\u001b[0m\u001b[0;34m\u001b[0m\u001b[0;34m\u001b[0m\u001b[0m\n\u001b[0;32m-> 3936\u001b[0;31m                 \u001b[0mobj\u001b[0m \u001b[0;34m=\u001b[0m \u001b[0mobj\u001b[0m\u001b[0;34m.\u001b[0m\u001b[0m_drop_axis\u001b[0m\u001b[0;34m(\u001b[0m\u001b[0mlabels\u001b[0m\u001b[0;34m,\u001b[0m \u001b[0maxis\u001b[0m\u001b[0;34m,\u001b[0m \u001b[0mlevel\u001b[0m\u001b[0;34m=\u001b[0m\u001b[0mlevel\u001b[0m\u001b[0;34m,\u001b[0m \u001b[0merrors\u001b[0m\u001b[0;34m=\u001b[0m\u001b[0merrors\u001b[0m\u001b[0;34m)\u001b[0m\u001b[0;34m\u001b[0m\u001b[0;34m\u001b[0m\u001b[0m\n\u001b[0m\u001b[1;32m   3937\u001b[0m \u001b[0;34m\u001b[0m\u001b[0m\n\u001b[1;32m   3938\u001b[0m         \u001b[0;32mif\u001b[0m \u001b[0minplace\u001b[0m\u001b[0;34m:\u001b[0m\u001b[0;34m\u001b[0m\u001b[0;34m\u001b[0m\u001b[0m\n",
            "\u001b[0;32m/usr/local/lib/python3.6/dist-packages/pandas/core/generic.py\u001b[0m in \u001b[0;36m_drop_axis\u001b[0;34m(self, labels, axis, level, errors)\u001b[0m\n\u001b[1;32m   3968\u001b[0m                 \u001b[0mnew_axis\u001b[0m \u001b[0;34m=\u001b[0m \u001b[0maxis\u001b[0m\u001b[0;34m.\u001b[0m\u001b[0mdrop\u001b[0m\u001b[0;34m(\u001b[0m\u001b[0mlabels\u001b[0m\u001b[0;34m,\u001b[0m \u001b[0mlevel\u001b[0m\u001b[0;34m=\u001b[0m\u001b[0mlevel\u001b[0m\u001b[0;34m,\u001b[0m \u001b[0merrors\u001b[0m\u001b[0;34m=\u001b[0m\u001b[0merrors\u001b[0m\u001b[0;34m)\u001b[0m\u001b[0;34m\u001b[0m\u001b[0;34m\u001b[0m\u001b[0m\n\u001b[1;32m   3969\u001b[0m             \u001b[0;32melse\u001b[0m\u001b[0;34m:\u001b[0m\u001b[0;34m\u001b[0m\u001b[0;34m\u001b[0m\u001b[0m\n\u001b[0;32m-> 3970\u001b[0;31m                 \u001b[0mnew_axis\u001b[0m \u001b[0;34m=\u001b[0m \u001b[0maxis\u001b[0m\u001b[0;34m.\u001b[0m\u001b[0mdrop\u001b[0m\u001b[0;34m(\u001b[0m\u001b[0mlabels\u001b[0m\u001b[0;34m,\u001b[0m \u001b[0merrors\u001b[0m\u001b[0;34m=\u001b[0m\u001b[0merrors\u001b[0m\u001b[0;34m)\u001b[0m\u001b[0;34m\u001b[0m\u001b[0;34m\u001b[0m\u001b[0m\n\u001b[0m\u001b[1;32m   3971\u001b[0m             \u001b[0mresult\u001b[0m \u001b[0;34m=\u001b[0m \u001b[0mself\u001b[0m\u001b[0;34m.\u001b[0m\u001b[0mreindex\u001b[0m\u001b[0;34m(\u001b[0m\u001b[0;34m**\u001b[0m\u001b[0;34m{\u001b[0m\u001b[0maxis_name\u001b[0m\u001b[0;34m:\u001b[0m \u001b[0mnew_axis\u001b[0m\u001b[0;34m}\u001b[0m\u001b[0;34m)\u001b[0m\u001b[0;34m\u001b[0m\u001b[0;34m\u001b[0m\u001b[0m\n\u001b[1;32m   3972\u001b[0m \u001b[0;34m\u001b[0m\u001b[0m\n",
            "\u001b[0;32m/usr/local/lib/python3.6/dist-packages/pandas/core/indexes/base.py\u001b[0m in \u001b[0;36mdrop\u001b[0;34m(self, labels, errors)\u001b[0m\n\u001b[1;32m   5016\u001b[0m         \u001b[0;32mif\u001b[0m \u001b[0mmask\u001b[0m\u001b[0;34m.\u001b[0m\u001b[0many\u001b[0m\u001b[0;34m(\u001b[0m\u001b[0;34m)\u001b[0m\u001b[0;34m:\u001b[0m\u001b[0;34m\u001b[0m\u001b[0;34m\u001b[0m\u001b[0m\n\u001b[1;32m   5017\u001b[0m             \u001b[0;32mif\u001b[0m \u001b[0merrors\u001b[0m \u001b[0;34m!=\u001b[0m \u001b[0;34m\"ignore\"\u001b[0m\u001b[0;34m:\u001b[0m\u001b[0;34m\u001b[0m\u001b[0;34m\u001b[0m\u001b[0m\n\u001b[0;32m-> 5018\u001b[0;31m                 \u001b[0;32mraise\u001b[0m \u001b[0mKeyError\u001b[0m\u001b[0;34m(\u001b[0m\u001b[0;34mf\"{labels[mask]} not found in axis\"\u001b[0m\u001b[0;34m)\u001b[0m\u001b[0;34m\u001b[0m\u001b[0;34m\u001b[0m\u001b[0m\n\u001b[0m\u001b[1;32m   5019\u001b[0m             \u001b[0mindexer\u001b[0m \u001b[0;34m=\u001b[0m \u001b[0mindexer\u001b[0m\u001b[0;34m[\u001b[0m\u001b[0;34m~\u001b[0m\u001b[0mmask\u001b[0m\u001b[0;34m]\u001b[0m\u001b[0;34m\u001b[0m\u001b[0;34m\u001b[0m\u001b[0m\n\u001b[1;32m   5020\u001b[0m         \u001b[0;32mreturn\u001b[0m \u001b[0mself\u001b[0m\u001b[0;34m.\u001b[0m\u001b[0mdelete\u001b[0m\u001b[0;34m(\u001b[0m\u001b[0mindexer\u001b[0m\u001b[0;34m)\u001b[0m\u001b[0;34m\u001b[0m\u001b[0;34m\u001b[0m\u001b[0m\n",
            "\u001b[0;31mKeyError\u001b[0m: \"['FRMARM sprd'] not found in axis\""
          ]
        }
      ]
    },
    {
      "cell_type": "code",
      "metadata": {
        "id": "DjEqgxOqapSR"
      },
      "source": [
        "#Let's split the data into training, validation, and test sets\n",
        "y = df['US 30yr FRM']\n",
        "X = df.drop(['US 30yr FRM'], axis = 1)\n",
        "\n",
        "X_train, X_val, X_test = X.iloc[:500], X.iloc[500:700], X.iloc[700:]\n",
        "y_train, y_val, y_test = y.iloc[:500], y.iloc[500:700], y.iloc[700:]"
      ],
      "execution_count": null,
      "outputs": []
    },
    {
      "cell_type": "code",
      "metadata": {
        "id": "SUoSuxaydj0g"
      },
      "source": [
        "#Data must be normalized\n",
        "y_mean, y_std = y.mean(), y.std()\n",
        "X_mean, X_std = X.mean(axis=0), X.std(axis=0)\n",
        "\n",
        "X_train = (X_train - X_mean)/X_std\n",
        "X_val = (X_val - X_mean)/X_std\n",
        "X_test = (X_test - X_mean)/X_std\n",
        "\n",
        "y_train = (y_train - y_mean)/y_std\n",
        "y_val = (y_val - y_mean)/y_std\n",
        "y_test = (y_test - y_mean)/y_std"
      ],
      "execution_count": null,
      "outputs": []
    },
    {
      "cell_type": "code",
      "metadata": {
        "id": "-pTEqoq0qSTc"
      },
      "source": [
        "#Let's start with just an exercise in curve fitting\n",
        "from keras.models import Sequential\n",
        "from keras import layers\n",
        "from keras.optimizers import RMSprop\n",
        "\n",
        "model = Sequential()\n",
        "model.add(layers.Dense(8, activation='relu', input_shape = [X_train.shape[1]]))\n",
        "model.add(layers.Dense(16, activation='relu'))\n",
        "model.add(layers.Dense(1))\n",
        "\n",
        "model.compile(optimizer=RMSprop(), loss='mae')"
      ],
      "execution_count": null,
      "outputs": []
    },
    {
      "cell_type": "code",
      "metadata": {
        "id": "KiTxrUlAqZxa",
        "colab": {
          "base_uri": "https://localhost:8080/",
          "height": 1000
        },
        "outputId": "b75744b8-3543-4af3-fd95-985de9ca0be2"
      },
      "source": [
        "history = model.fit(X_train, y_train, epochs = 50, validation_data = (X_val, y_val))"
      ],
      "execution_count": null,
      "outputs": [
        {
          "output_type": "stream",
          "text": [
            "Train on 500 samples, validate on 200 samples\n",
            "Epoch 1/50\n",
            "500/500 [==============================] - 0s 180us/step - loss: nan - val_loss: nan\n",
            "Epoch 2/50\n",
            "500/500 [==============================] - 0s 55us/step - loss: nan - val_loss: nan\n",
            "Epoch 3/50\n",
            "500/500 [==============================] - 0s 55us/step - loss: nan - val_loss: nan\n",
            "Epoch 4/50\n",
            "500/500 [==============================] - 0s 54us/step - loss: nan - val_loss: nan\n",
            "Epoch 5/50\n",
            "500/500 [==============================] - 0s 60us/step - loss: nan - val_loss: nan\n",
            "Epoch 6/50\n",
            "500/500 [==============================] - 0s 55us/step - loss: nan - val_loss: nan\n",
            "Epoch 7/50\n",
            "500/500 [==============================] - 0s 52us/step - loss: nan - val_loss: nan\n",
            "Epoch 8/50\n",
            "500/500 [==============================] - 0s 55us/step - loss: nan - val_loss: nan\n",
            "Epoch 9/50\n",
            "500/500 [==============================] - 0s 65us/step - loss: nan - val_loss: nan\n",
            "Epoch 10/50\n",
            "500/500 [==============================] - 0s 59us/step - loss: nan - val_loss: nan\n",
            "Epoch 11/50\n",
            "500/500 [==============================] - 0s 58us/step - loss: nan - val_loss: nan\n",
            "Epoch 12/50\n",
            "500/500 [==============================] - 0s 53us/step - loss: nan - val_loss: nan\n",
            "Epoch 13/50\n",
            "500/500 [==============================] - 0s 55us/step - loss: nan - val_loss: nan\n",
            "Epoch 14/50\n",
            "500/500 [==============================] - 0s 51us/step - loss: nan - val_loss: nan\n",
            "Epoch 15/50\n",
            "500/500 [==============================] - 0s 57us/step - loss: nan - val_loss: nan\n",
            "Epoch 16/50\n",
            "500/500 [==============================] - 0s 58us/step - loss: nan - val_loss: nan\n",
            "Epoch 17/50\n",
            "500/500 [==============================] - 0s 57us/step - loss: nan - val_loss: nan\n",
            "Epoch 18/50\n",
            "500/500 [==============================] - 0s 61us/step - loss: nan - val_loss: nan\n",
            "Epoch 19/50\n",
            "500/500 [==============================] - 0s 70us/step - loss: nan - val_loss: nan\n",
            "Epoch 20/50\n",
            "500/500 [==============================] - 0s 55us/step - loss: nan - val_loss: nan\n",
            "Epoch 21/50\n",
            "500/500 [==============================] - 0s 52us/step - loss: nan - val_loss: nan\n",
            "Epoch 22/50\n",
            "500/500 [==============================] - 0s 55us/step - loss: nan - val_loss: nan\n",
            "Epoch 23/50\n",
            "500/500 [==============================] - 0s 57us/step - loss: nan - val_loss: nan\n",
            "Epoch 24/50\n",
            "500/500 [==============================] - 0s 54us/step - loss: nan - val_loss: nan\n",
            "Epoch 25/50\n",
            "500/500 [==============================] - 0s 60us/step - loss: nan - val_loss: nan\n",
            "Epoch 26/50\n",
            "500/500 [==============================] - 0s 60us/step - loss: nan - val_loss: nan\n",
            "Epoch 27/50\n",
            "500/500 [==============================] - 0s 55us/step - loss: nan - val_loss: nan\n",
            "Epoch 28/50\n",
            "500/500 [==============================] - 0s 54us/step - loss: nan - val_loss: nan\n",
            "Epoch 29/50\n",
            "500/500 [==============================] - 0s 59us/step - loss: nan - val_loss: nan\n",
            "Epoch 30/50\n",
            "500/500 [==============================] - 0s 56us/step - loss: nan - val_loss: nan\n",
            "Epoch 31/50\n",
            "500/500 [==============================] - 0s 61us/step - loss: nan - val_loss: nan\n",
            "Epoch 32/50\n",
            "500/500 [==============================] - 0s 60us/step - loss: nan - val_loss: nan\n",
            "Epoch 33/50\n",
            "500/500 [==============================] - 0s 52us/step - loss: nan - val_loss: nan\n",
            "Epoch 34/50\n",
            "500/500 [==============================] - 0s 55us/step - loss: nan - val_loss: nan\n",
            "Epoch 35/50\n",
            "500/500 [==============================] - 0s 65us/step - loss: nan - val_loss: nan\n",
            "Epoch 36/50\n",
            "500/500 [==============================] - 0s 64us/step - loss: nan - val_loss: nan\n",
            "Epoch 37/50\n",
            "500/500 [==============================] - 0s 53us/step - loss: nan - val_loss: nan\n",
            "Epoch 38/50\n",
            "500/500 [==============================] - 0s 53us/step - loss: nan - val_loss: nan\n",
            "Epoch 39/50\n",
            "500/500 [==============================] - 0s 54us/step - loss: nan - val_loss: nan\n",
            "Epoch 40/50\n",
            "500/500 [==============================] - 0s 54us/step - loss: nan - val_loss: nan\n",
            "Epoch 41/50\n",
            "500/500 [==============================] - 0s 57us/step - loss: nan - val_loss: nan\n",
            "Epoch 42/50\n",
            "500/500 [==============================] - 0s 65us/step - loss: nan - val_loss: nan\n",
            "Epoch 43/50\n",
            "500/500 [==============================] - 0s 54us/step - loss: nan - val_loss: nan\n",
            "Epoch 44/50\n",
            "500/500 [==============================] - 0s 53us/step - loss: nan - val_loss: nan\n",
            "Epoch 45/50\n",
            "500/500 [==============================] - 0s 55us/step - loss: nan - val_loss: nan\n",
            "Epoch 46/50\n",
            "500/500 [==============================] - 0s 53us/step - loss: nan - val_loss: nan\n",
            "Epoch 47/50\n",
            "500/500 [==============================] - 0s 56us/step - loss: nan - val_loss: nan\n",
            "Epoch 48/50\n",
            "500/500 [==============================] - 0s 55us/step - loss: nan - val_loss: nan\n",
            "Epoch 49/50\n",
            "500/500 [==============================] - 0s 59us/step - loss: nan - val_loss: nan\n",
            "Epoch 50/50\n",
            "500/500 [==============================] - 0s 55us/step - loss: nan - val_loss: nan\n"
          ],
          "name": "stdout"
        }
      ]
    },
    {
      "cell_type": "code",
      "metadata": {
        "id": "CyYodlH5DCq4",
        "colab": {
          "base_uri": "https://localhost:8080/",
          "height": 281
        },
        "outputId": "3d3a8444-c158-40ce-d6f0-43dd13c39cf1"
      },
      "source": [
        "loss = history.history['loss']\n",
        "val_loss = history.history['val_loss']\n",
        "\n",
        "epochs = range(1, len(loss) + 1)\n",
        "\n",
        "plt.figure()\n",
        "\n",
        "plt.plot(epochs, loss, 'bo', label = 'Training Loss')\n",
        "plt.plot(epochs, val_loss, 'b', label = 'Val Loss')\n",
        "plt.title('Training and validation loss')\n",
        "plt.legend()\n",
        "\n",
        "plt.show()"
      ],
      "execution_count": null,
      "outputs": [
        {
          "output_type": "display_data",
          "data": {
            "image/png": "[encoded data removed]",
            "text/plain": [
              "<Figure size 432x288 with 1 Axes>"
            ]
          },
          "metadata": {
            "tags": [],
            "needs_background": "light"
          }
        }
      ]
    },
    {
      "cell_type": "code",
      "metadata": {
        "id": "wO0yW0YWcV6G"
      },
      "source": [
        "from keras.models import Sequential\n",
        "from keras import layers\n",
        "from keras.optimizers import RMSprop\n",
        "\n",
        "model = Sequential()\n",
        "model.add(layers.Dense(7, input_dim=7, kernel_initializer='normal', activation='relu'))\n",
        "model.add(layers.Dense(1, kernel_initializer='normal'))\n",
        "\n",
        "\n",
        "model.compile(optimizer=RMSprop(), loss='mae')"
      ],
      "execution_count": null,
      "outputs": []
    },
    {
      "cell_type": "markdown",
      "metadata": {
        "id": "-5__h6-7Glbr"
      },
      "source": [
        "So our first model was pretty bad, performingly significantly worse than the baseline.  Why was this happening?\n",
        "\n",
        "\n",
        "*   We have relatively little training data\n",
        "*   We are either over or under complicating the problem\n",
        "\n",
        "The latter can usually be \"easily\" investigated in ML by examining what you're getting wrong.  Let's do something similar before moving on.\n",
        "\n"
      ]
    },
    {
      "cell_type": "code",
      "metadata": {
        "id": "9x_OpWY4mxbL",
        "colab": {
          "base_uri": "https://localhost:8080/",
          "height": 265
        },
        "outputId": "c1fdf7d3-0340-49dc-9d30-c95c4d004d00"
      },
      "source": [
        "#Maybe we have found our problem!\n",
        "plt.plot(df.index, df['US 30yr FRM'])\n",
        "plt.show()"
      ],
      "execution_count": null,
      "outputs": [
        {
          "output_type": "display_data",
          "data": {
            "image/png": "[encoded data removed]",
            "text/plain": [
              "<Figure size 432x288 with 1 Axes>"
            ]
          },
          "metadata": {
            "tags": [],
            "needs_background": "light"
          }
        }
      ]
    },
    {
      "cell_type": "code",
      "metadata": {
        "id": "-1rNsw4JHilZ",
        "colab": {
          "base_uri": "https://localhost:8080/",
          "height": 450
        },
        "outputId": "5db3f365-9904-46ee-cd87-df6c561f0281"
      },
      "source": [
        "X_train"
      ],
      "execution_count": null,
      "outputs": [
        {
          "output_type": "execute_result",
          "data": {
            "text/html": [
              "<div>\n",
              "<style scoped>\n",
              "    .dataframe tbody tr th:only-of-type {\n",
              "        vertical-align: middle;\n",
              "    }\n",
              "\n",
              "    .dataframe tbody tr th {\n",
              "        vertical-align: top;\n",
              "    }\n",
              "\n",
              "    .dataframe thead th {\n",
              "        text-align: right;\n",
              "    }\n",
              "</style>\n",
              "<table border=\"1\" class=\"dataframe\">\n",
              "  <thead>\n",
              "    <tr style=\"text-align: right;\">\n",
              "      <th></th>\n",
              "      <th>30 yr feespts</th>\n",
              "      <th>US 15yr FRM</th>\n",
              "      <th>15 yr feespts</th>\n",
              "      <th>US 51 ARM</th>\n",
              "      <th>51 ARM feespts</th>\n",
              "      <th>51 ARM margin</th>\n",
              "    </tr>\n",
              "    <tr>\n",
              "      <th>Week</th>\n",
              "      <th></th>\n",
              "      <th></th>\n",
              "      <th></th>\n",
              "      <th></th>\n",
              "      <th></th>\n",
              "      <th></th>\n",
              "    </tr>\n",
              "  </thead>\n",
              "  <tbody>\n",
              "    <tr>\n",
              "      <th>2005-01-13</th>\n",
              "      <td>0.051776</td>\n",
              "      <td>0.957435</td>\n",
              "      <td>0.244433</td>\n",
              "      <td>0.854255</td>\n",
              "      <td>-0.155979</td>\n",
              "      <td>2.660470</td>\n",
              "    </tr>\n",
              "    <tr>\n",
              "      <th>2005-01-20</th>\n",
              "      <td>0.894215</td>\n",
              "      <td>0.922350</td>\n",
              "      <td>1.120132</td>\n",
              "      <td>0.854255</td>\n",
              "      <td>0.695905</td>\n",
              "      <td>2.660470</td>\n",
              "    </tr>\n",
              "    <tr>\n",
              "      <th>2005-01-27</th>\n",
              "      <td>0.051776</td>\n",
              "      <td>0.913579</td>\n",
              "      <td>0.244433</td>\n",
              "      <td>0.829555</td>\n",
              "      <td>0.695905</td>\n",
              "      <td>2.660470</td>\n",
              "    </tr>\n",
              "    <tr>\n",
              "      <th>2005-02-03</th>\n",
              "      <td>0.894215</td>\n",
              "      <td>0.913579</td>\n",
              "      <td>1.120132</td>\n",
              "      <td>0.813088</td>\n",
              "      <td>0.695905</td>\n",
              "      <td>2.660470</td>\n",
              "    </tr>\n",
              "    <tr>\n",
              "      <th>2005-02-10</th>\n",
              "      <td>1.73665</td>\n",
              "      <td>0.878495</td>\n",
              "      <td>1.120132</td>\n",
              "      <td>0.804855</td>\n",
              "      <td>1.547788</td>\n",
              "      <td>3.321477</td>\n",
              "    </tr>\n",
              "    <tr>\n",
              "      <th>...</th>\n",
              "      <td>...</td>\n",
              "      <td>...</td>\n",
              "      <td>...</td>\n",
              "      <td>...</td>\n",
              "      <td>...</td>\n",
              "      <td>...</td>\n",
              "    </tr>\n",
              "    <tr>\n",
              "      <th>2014-07-10</th>\n",
              "      <td>0.894215</td>\n",
              "      <td>-0.752936</td>\n",
              "      <td>0.244433</td>\n",
              "      <td>-0.841815</td>\n",
              "      <td>-1.007862</td>\n",
              "      <td>-1.305571</td>\n",
              "    </tr>\n",
              "    <tr>\n",
              "      <th>2014-07-17</th>\n",
              "      <td>0.051776</td>\n",
              "      <td>-0.761707</td>\n",
              "      <td>-0.631266</td>\n",
              "      <td>-0.858282</td>\n",
              "      <td>-1.007862</td>\n",
              "      <td>-0.644564</td>\n",
              "    </tr>\n",
              "    <tr>\n",
              "      <th>2014-07-24</th>\n",
              "      <td>0.051776</td>\n",
              "      <td>-0.735394</td>\n",
              "      <td>0.244433</td>\n",
              "      <td>-0.841815</td>\n",
              "      <td>-0.155979</td>\n",
              "      <td>-0.644564</td>\n",
              "    </tr>\n",
              "    <tr>\n",
              "      <th>2014-07-31</th>\n",
              "      <td>0.051776</td>\n",
              "      <td>-0.761707</td>\n",
              "      <td>1.120132</td>\n",
              "      <td>-0.825348</td>\n",
              "      <td>-0.155979</td>\n",
              "      <td>-0.644564</td>\n",
              "    </tr>\n",
              "    <tr>\n",
              "      <th>2014-08-07</th>\n",
              "      <td>0.894215</td>\n",
              "      <td>-0.726623</td>\n",
              "      <td>0.244433</td>\n",
              "      <td>-0.850048</td>\n",
              "      <td>-0.155979</td>\n",
              "      <td>-1.305571</td>\n",
              "    </tr>\n",
              "  </tbody>\n",
              "</table>\n",
              "<p>500 rows × 6 columns</p>\n",
              "</div>"
            ],
            "text/plain": [
              "           30 yr feespts  US 15yr FRM  ...  51 ARM feespts  51 ARM margin\n",
              "Week                                   ...                               \n",
              "2005-01-13      0.051776     0.957435  ...       -0.155979       2.660470\n",
              "2005-01-20      0.894215     0.922350  ...        0.695905       2.660470\n",
              "2005-01-27      0.051776     0.913579  ...        0.695905       2.660470\n",
              "2005-02-03      0.894215     0.913579  ...        0.695905       2.660470\n",
              "2005-02-10       1.73665     0.878495  ...        1.547788       3.321477\n",
              "...                  ...          ...  ...             ...            ...\n",
              "2014-07-10      0.894215    -0.752936  ...       -1.007862      -1.305571\n",
              "2014-07-17      0.051776    -0.761707  ...       -1.007862      -0.644564\n",
              "2014-07-24      0.051776    -0.735394  ...       -0.155979      -0.644564\n",
              "2014-07-31      0.051776    -0.761707  ...       -0.155979      -0.644564\n",
              "2014-08-07      0.894215    -0.726623  ...       -0.155979      -1.305571\n",
              "\n",
              "[500 rows x 6 columns]"
            ]
          },
          "metadata": {
            "tags": []
          },
          "execution_count": 132
        }
      ]
    },
    {
      "cell_type": "code",
      "metadata": {
        "id": "Qrdp7FC3lw_7"
      },
      "source": [
        "#Recurrent approach\n",
        "model_rec = Sequential()\n",
        "\n",
        "model_rec.add(layers.GRU(32, input_shape=(None, X_train.shape[-1])))\n",
        "model_rec.add(layers.Dense(1))\n",
        "\n",
        "model_rec.compile(optimizer=RMSprop(), loss = 'mae')"
      ],
      "execution_count": null,
      "outputs": []
    },
    {
      "cell_type": "code",
      "metadata": {
        "id": "WCdRV6aHRwrd"
      },
      "source": [
        "X_train2 = np.asarray(X_train).reshape(X_train.shape[0], 1, X_train.shape[1])\n",
        "X_val2 = np.asarray(X_val).reshape(X_val.shape[0], 1, X_val.shape[1])"
      ],
      "execution_count": null,
      "outputs": []
    },
    {
      "cell_type": "code",
      "metadata": {
        "id": "PsevyZ0UltXZ",
        "colab": {
          "base_uri": "https://localhost:8080/",
          "height": 1000
        },
        "outputId": "e06a933e-fefa-4d2e-fc55-79702cfaba20"
      },
      "source": [
        "history = model_rec.fit(X_train2, y_train,  epochs = 50, validation_data = (X_val2, y_val))"
      ],
      "execution_count": null,
      "outputs": [
        {
          "output_type": "stream",
          "text": [
            "Train on 500 samples, validate on 200 samples\n",
            "Epoch 1/50\n",
            "500/500 [==============================] - 0s 82us/step - loss: 0.0566 - val_loss: 0.1056\n",
            "Epoch 2/50\n",
            "500/500 [==============================] - 0s 75us/step - loss: 0.0557 - val_loss: 0.1346\n",
            "Epoch 3/50\n",
            "500/500 [==============================] - 0s 70us/step - loss: 0.0567 - val_loss: 0.1104\n",
            "Epoch 4/50\n",
            "500/500 [==============================] - 0s 68us/step - loss: 0.0564 - val_loss: 0.1267\n",
            "Epoch 5/50\n",
            "500/500 [==============================] - 0s 70us/step - loss: 0.0570 - val_loss: 0.1248\n",
            "Epoch 6/50\n",
            "500/500 [==============================] - 0s 71us/step - loss: 0.0571 - val_loss: 0.1220\n",
            "Epoch 7/50\n",
            "500/500 [==============================] - 0s 70us/step - loss: 0.0566 - val_loss: 0.1132\n",
            "Epoch 8/50\n",
            "500/500 [==============================] - 0s 70us/step - loss: 0.0563 - val_loss: 0.1318\n",
            "Epoch 9/50\n",
            "500/500 [==============================] - 0s 70us/step - loss: 0.0563 - val_loss: 0.1240\n",
            "Epoch 10/50\n",
            "500/500 [==============================] - 0s 79us/step - loss: 0.0564 - val_loss: 0.1129\n",
            "Epoch 11/50\n",
            "500/500 [==============================] - 0s 69us/step - loss: 0.0556 - val_loss: 0.1202\n",
            "Epoch 12/50\n",
            "500/500 [==============================] - 0s 70us/step - loss: 0.0558 - val_loss: 0.1164\n",
            "Epoch 13/50\n",
            "500/500 [==============================] - 0s 69us/step - loss: 0.0579 - val_loss: 0.1305\n",
            "Epoch 14/50\n",
            "500/500 [==============================] - 0s 73us/step - loss: 0.0571 - val_loss: 0.1279\n",
            "Epoch 15/50\n",
            "500/500 [==============================] - 0s 70us/step - loss: 0.0551 - val_loss: 0.1221\n",
            "Epoch 16/50\n",
            "500/500 [==============================] - 0s 74us/step - loss: 0.0560 - val_loss: 0.1063\n",
            "Epoch 17/50\n",
            "500/500 [==============================] - 0s 73us/step - loss: 0.0577 - val_loss: 0.1198\n",
            "Epoch 18/50\n",
            "500/500 [==============================] - 0s 72us/step - loss: 0.0561 - val_loss: 0.1079\n",
            "Epoch 19/50\n",
            "500/500 [==============================] - 0s 74us/step - loss: 0.0575 - val_loss: 0.1280\n",
            "Epoch 20/50\n",
            "500/500 [==============================] - 0s 73us/step - loss: 0.0577 - val_loss: 0.1277\n",
            "Epoch 21/50\n",
            "500/500 [==============================] - 0s 69us/step - loss: 0.0559 - val_loss: 0.1260\n",
            "Epoch 22/50\n",
            "500/500 [==============================] - 0s 70us/step - loss: 0.0556 - val_loss: 0.1131\n",
            "Epoch 23/50\n",
            "500/500 [==============================] - 0s 73us/step - loss: 0.0556 - val_loss: 0.1127\n",
            "Epoch 24/50\n",
            "500/500 [==============================] - 0s 68us/step - loss: 0.0574 - val_loss: 0.1196\n",
            "Epoch 25/50\n",
            "500/500 [==============================] - 0s 70us/step - loss: 0.0559 - val_loss: 0.1240\n",
            "Epoch 26/50\n",
            "500/500 [==============================] - 0s 68us/step - loss: 0.0570 - val_loss: 0.1379\n",
            "Epoch 27/50\n",
            "500/500 [==============================] - 0s 71us/step - loss: 0.0564 - val_loss: 0.1247\n",
            "Epoch 28/50\n",
            "500/500 [==============================] - 0s 70us/step - loss: 0.0554 - val_loss: 0.1319\n",
            "Epoch 29/50\n",
            "500/500 [==============================] - 0s 75us/step - loss: 0.0564 - val_loss: 0.1341\n",
            "Epoch 30/50\n",
            "500/500 [==============================] - 0s 68us/step - loss: 0.0566 - val_loss: 0.1168\n",
            "Epoch 31/50\n",
            "500/500 [==============================] - 0s 69us/step - loss: 0.0557 - val_loss: 0.1141\n",
            "Epoch 32/50\n",
            "500/500 [==============================] - 0s 70us/step - loss: 0.0561 - val_loss: 0.1197\n",
            "Epoch 33/50\n",
            "500/500 [==============================] - 0s 69us/step - loss: 0.0570 - val_loss: 0.1117\n",
            "Epoch 34/50\n",
            "500/500 [==============================] - 0s 73us/step - loss: 0.0562 - val_loss: 0.1149\n",
            "Epoch 35/50\n",
            "500/500 [==============================] - 0s 70us/step - loss: 0.0552 - val_loss: 0.1052\n",
            "Epoch 36/50\n",
            "500/500 [==============================] - 0s 67us/step - loss: 0.0563 - val_loss: 0.1119\n",
            "Epoch 37/50\n",
            "500/500 [==============================] - 0s 71us/step - loss: 0.0559 - val_loss: 0.1198\n",
            "Epoch 38/50\n",
            "500/500 [==============================] - 0s 72us/step - loss: 0.0550 - val_loss: 0.1240\n",
            "Epoch 39/50\n",
            "500/500 [==============================] - 0s 70us/step - loss: 0.0575 - val_loss: 0.1151\n",
            "Epoch 40/50\n",
            "500/500 [==============================] - 0s 70us/step - loss: 0.0551 - val_loss: 0.1182\n",
            "Epoch 41/50\n",
            "500/500 [==============================] - 0s 71us/step - loss: 0.0569 - val_loss: 0.1185\n",
            "Epoch 42/50\n",
            "500/500 [==============================] - 0s 67us/step - loss: 0.0562 - val_loss: 0.1128\n",
            "Epoch 43/50\n",
            "500/500 [==============================] - 0s 73us/step - loss: 0.0549 - val_loss: 0.1160\n",
            "Epoch 44/50\n",
            "500/500 [==============================] - 0s 70us/step - loss: 0.0556 - val_loss: 0.1306\n",
            "Epoch 45/50\n",
            "500/500 [==============================] - 0s 68us/step - loss: 0.0555 - val_loss: 0.1248\n",
            "Epoch 46/50\n",
            "500/500 [==============================] - 0s 68us/step - loss: 0.0560 - val_loss: 0.1082\n",
            "Epoch 47/50\n",
            "500/500 [==============================] - 0s 71us/step - loss: 0.0558 - val_loss: 0.1243\n",
            "Epoch 48/50\n",
            "500/500 [==============================] - 0s 72us/step - loss: 0.0549 - val_loss: 0.1339\n",
            "Epoch 49/50\n",
            "500/500 [==============================] - 0s 71us/step - loss: 0.0549 - val_loss: 0.1191\n",
            "Epoch 50/50\n",
            "500/500 [==============================] - 0s 67us/step - loss: 0.0551 - val_loss: 0.1279\n"
          ],
          "name": "stdout"
        }
      ]
    },
    {
      "cell_type": "code",
      "metadata": {
        "id": "HqAqqeNLIa35",
        "colab": {
          "base_uri": "https://localhost:8080/",
          "height": 281
        },
        "outputId": "96607fc2-eddc-4851-b1ea-e9b2e9b81834"
      },
      "source": [
        "loss = history.history['loss']\n",
        "val_loss = history.history['val_loss']\n",
        "\n",
        "epochs = range(1, len(loss) + 1)\n",
        "\n",
        "plt.figure()\n",
        "\n",
        "plt.plot(epochs, loss, 'bo', label = 'Training Loss')\n",
        "plt.plot(epochs, val_loss, 'b', label = 'Val Loss')\n",
        "plt.title('Training and validation loss')\n",
        "plt.legend()\n",
        "\n",
        "plt.show()"
      ],
      "execution_count": null,
      "outputs": [
        {
          "output_type": "display_data",
          "data": {
            "image/png": "[encoded data removed]",
            "text/plain": [
              "<Figure size 432x288 with 1 Axes>"
            ]
          },
          "metadata": {
            "tags": [],
            "needs_background": "light"
          }
        }
      ]
    },
    {
      "cell_type": "code",
      "metadata": {
        "id": "QUoXpq54WAeo"
      },
      "source": [
        ""
      ],
      "execution_count": null,
      "outputs": []
    }
  ]
}